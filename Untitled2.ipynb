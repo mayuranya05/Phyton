{
  "nbformat": 4,
  "nbformat_minor": 0,
  "metadata": {
    "colab": {
      "provenance": [],
      "authorship_tag": "ABX9TyNiLAf6R2GEEQq/ZMpE/983",
      "include_colab_link": true
    },
    "kernelspec": {
      "name": "python3",
      "display_name": "Python 3"
    },
    "language_info": {
      "name": "python"
    }
  },
  "cells": [
    {
      "cell_type": "markdown",
      "metadata": {
        "id": "view-in-github",
        "colab_type": "text"
      },
      "source": [
        "<a href=\"https://colab.research.google.com/github/mayuranya05/PythonClass/blob/main/Untitled2.ipynb\" target=\"_parent\"><img src=\"https://colab.research.google.com/assets/colab-badge.svg\" alt=\"Open In Colab\"/></a>"
      ]
    },
    {
      "cell_type": "code",
      "execution_count": null,
      "metadata": {
        "colab": {
          "base_uri": "https://localhost:8080/"
        },
        "id": "X8fkju0qFzX3",
        "outputId": "d2a7e0bc-d87f-4a43-c275-54488a0cd444"
      },
      "outputs": [
        {
          "output_type": "stream",
          "name": "stdout",
          "text": [
            "I an Anirach,\n",
            "I Love Python\n"
          ]
        }
      ],
      "source": [
        "def message():\n",
        "    print('I an Anirach,')\n",
        "    print('I Love Python')\n",
        "message()"
      ]
    },
    {
      "cell_type": "code",
      "source": [
        "def main():\n",
        "    print('I have a message for you.')\n",
        "    message()\n",
        "    print('Goodbye!')\n",
        "\n",
        "def message():\n",
        "    print('I an Anirach,')\n",
        "    print('I Love Python')\n",
        "\n",
        "main()"
      ],
      "metadata": {
        "colab": {
          "base_uri": "https://localhost:8080/"
        },
        "id": "HrBibpgaF6eu",
        "outputId": "5ab43696-b2dc-45df-a4dd-83055485ccef"
      },
      "execution_count": null,
      "outputs": [
        {
          "output_type": "stream",
          "name": "stdout",
          "text": [
            "I have a message for you.\n",
            "I an Anirach,\n",
            "I Love Python\n",
            "Goodbye!\n"
          ]
        }
      ]
    },
    {
      "cell_type": "code",
      "source": [
        "def main():\n",
        "  texas()\n",
        "  callifornia()\n",
        "\n",
        "def texas():\n",
        "  birds = 5000\n",
        "  print('texas has', birds, 'birds.')\n",
        "\n",
        "def callifornia():\n",
        "  birds = 8000\n",
        "  print('california has', birds, 'birds.')\n",
        "\n",
        "main()"
      ],
      "metadata": {
        "id": "jfyuxJzzGvW8",
        "colab": {
          "base_uri": "https://localhost:8080/"
        },
        "outputId": "9fdc7ecf-3386-458d-d8cc-6f4671fe82fa"
      },
      "execution_count": null,
      "outputs": [
        {
          "output_type": "stream",
          "name": "stdout",
          "text": [
            "texas has 5000 birds.\n",
            "california has 8000 birds.\n"
          ]
        }
      ]
    },
    {
      "cell_type": "code",
      "source": [
        "def main():\n",
        "  value = 5\n",
        "  show_double(value)\n",
        "\n",
        "def show_double(number):\n",
        "  result = number * 2\n",
        "  print(result)\n",
        "\n",
        "main()"
      ],
      "metadata": {
        "colab": {
          "base_uri": "https://localhost:8080/"
        },
        "id": "q6TTDgiVLW2p",
        "outputId": "70d7c3d7-c317-4d1c-d201-b2a2571a67da"
      },
      "execution_count": null,
      "outputs": [
        {
          "output_type": "stream",
          "name": "stdout",
          "text": [
            "10\n"
          ]
        }
      ]
    },
    {
      "cell_type": "code",
      "source": [
        "def main():\n",
        "  print('The sum of 12 and 45 is')\n",
        "  show_sum(12, 45)\n",
        "\n",
        "def show_sum(num1, num2):\n",
        "  result = num1 + num2\n",
        "  print(result)\n",
        "\n",
        "main()"
      ],
      "metadata": {
        "colab": {
          "base_uri": "https://localhost:8080/"
        },
        "id": "F9Ner71FL9O_",
        "outputId": "66f41d9c-0f59-42e7-ed38-c5557b8209f5"
      },
      "execution_count": null,
      "outputs": [
        {
          "output_type": "stream",
          "name": "stdout",
          "text": [
            "The sum of 12 and 45 is\n",
            "57\n"
          ]
        }
      ]
    },
    {
      "cell_type": "code",
      "source": [
        "def main():\n",
        "  value = 99\n",
        "  print('The value is', value)\n",
        "  change_me(value)\n",
        "  print('Back in main the value is', value)\n",
        "\n",
        "def change_me(arg):\n",
        "  print('I an changing the value.')\n",
        "  arg = 0\n",
        "  print('Now the value is', arg)\n",
        "\n",
        "main()"
      ],
      "metadata": {
        "colab": {
          "base_uri": "https://localhost:8080/"
        },
        "id": "NWj5_FJnNPCp",
        "outputId": "15ed58a8-e01f-470d-d4a7-d366a321202c"
      },
      "execution_count": null,
      "outputs": [
        {
          "output_type": "stream",
          "name": "stdout",
          "text": [
            "The value is 99\n",
            "I an changing the value.\n",
            "Now the value is 0\n",
            "Back in main the value is 99\n"
          ]
        }
      ]
    },
    {
      "cell_type": "code",
      "source": [
        "def reverse_name(first, last):\n",
        "  print(last, frist)\n",
        "\n",
        "def main():\n",
        "  first_name = input('Enter your first name : ')\n",
        "  last_name = input('Enter your last name : ')\n",
        "  print('Your name reversed is : ')\n",
        "  reverse_name = (first_name, last_name)\n",
        "  print(reverse_name)\n",
        "\n",
        "main()"
      ],
      "metadata": {
        "colab": {
          "base_uri": "https://localhost:8080/"
        },
        "id": "MKGgGXvaPC2X",
        "outputId": "8a2e5b2f-e798-4a22-b3d5-e3b021d32f7a"
      },
      "execution_count": null,
      "outputs": [
        {
          "output_type": "stream",
          "name": "stdout",
          "text": [
            "Enter your first name : mayuranya\n",
            "Enter your last name : tabsawat\n",
            "Your name reversed is : \n",
            "('mayuranya', 'tabsawat')\n"
          ]
        }
      ]
    },
    {
      "cell_type": "code",
      "source": [
        "number = 0\n",
        "\n",
        "def main():\n",
        "  global number\n",
        "  number = int(input('Enter a number : '))\n",
        "  show_number()\n",
        "\n",
        "def show_number():\n",
        "  print('The number you entered is', number)\n",
        "\n",
        "main()"
      ],
      "metadata": {
        "colab": {
          "base_uri": "https://localhost:8080/"
        },
        "id": "rGgk6Ab_RhHe",
        "outputId": "542d6ac4-b516-4ba8-8e91-ef32553658b2"
      },
      "execution_count": null,
      "outputs": [
        {
          "output_type": "stream",
          "name": "stdout",
          "text": [
            "Enter a number : 5\n",
            "The number you entered is 5\n"
          ]
        }
      ]
    },
    {
      "cell_type": "code",
      "source": [
        "import random\n",
        "\n",
        "HEADS = 1\n",
        "TALLS = 2\n",
        "TOSSES =10\n",
        "\n",
        "def main():\n",
        "  for toss in range(TOSSES):\n",
        "    if random.randint(HEADS, TALLS) == HEADS:\n",
        "      print('Heads')\n",
        "    else:\n",
        "      print('Tails')\n",
        "\n",
        "main()"
      ],
      "metadata": {
        "colab": {
          "base_uri": "https://localhost:8080/"
        },
        "id": "GA7hULFvSSDm",
        "outputId": "0c0ba738-5700-419f-f132-7622d9125aa0"
      },
      "execution_count": null,
      "outputs": [
        {
          "output_type": "stream",
          "name": "stdout",
          "text": [
            "Tails\n",
            "Tails\n",
            "Tails\n",
            "Heads\n",
            "Heads\n",
            "Heads\n",
            "Tails\n",
            "Tails\n",
            "Tails\n",
            "Heads\n"
          ]
        }
      ]
    },
    {
      "cell_type": "code",
      "source": [
        "from os import PRIO_PROCESS\n",
        "DISCOUNT_PERCENTAGE = 0.20\n",
        "\n",
        "def main():\n",
        "  reg_price = get_regular_price()\n",
        "  sale_price = reg_price - discount(reg_price)\n",
        "  print('The sale price is $', format(sale_price, ',.2f'), sep='')\n",
        "\n",
        "def get_regular_price():\n",
        "  price = float(input(\"Eter the item's regular price : \"))\n",
        "  return price\n",
        "\n",
        "def discount(price):\n",
        "  return price * DISCOUNT_PERCENTAGE\n",
        "\n",
        "main()"
      ],
      "metadata": {
        "colab": {
          "base_uri": "https://localhost:8080/"
        },
        "id": "feEj8jArTmSu",
        "outputId": "cb8ab869-c268-4b24-df18-090d95acb6dd"
      },
      "execution_count": null,
      "outputs": [
        {
          "output_type": "stream",
          "name": "stdout",
          "text": [
            "Eter the item's regular price : 200\n",
            "The sale price is $160.00\n"
          ]
        }
      ]
    },
    {
      "cell_type": "code",
      "source": [
        "def get_name():\n",
        "  first = input('Enter your first name : ')\n",
        "  last = input('Enter your last name : ')\n",
        "  return first, last\n",
        "\n",
        "first_name, last_name = get_name()\n",
        "print('First name :',first_name,' Last name :', last_name)"
      ],
      "metadata": {
        "colab": {
          "base_uri": "https://localhost:8080/"
        },
        "id": "b64WuKqkgCrD",
        "outputId": "342f2912-f564-4c2a-e829-c3e93de0af3f"
      },
      "execution_count": null,
      "outputs": [
        {
          "output_type": "stream",
          "name": "stdout",
          "text": [
            "Enter your first name : mayuranya\n",
            "Enter your last name : tabsawat\n",
            "First name : mayuranya  Last name : tabsawat\n"
          ]
        }
      ]
    },
    {
      "cell_type": "code",
      "source": [
        "import math\n",
        "\n",
        "def area(radius):\n",
        "  return math.pi * radius ** 2\n",
        "\n",
        "def circumference(redius):\n",
        "  return 2 * math.pi * radius"
      ],
      "metadata": {
        "id": "6CM2Dnrqh1bK"
      },
      "execution_count": null,
      "outputs": []
    },
    {
      "cell_type": "code",
      "source": [
        "def area(width, length):\n",
        "  return width * length\n",
        "\n",
        "def perimeter(width, length):\n",
        "  return 2 * (width + length)"
      ],
      "metadata": {
        "id": "ARH_-nCwibP7"
      },
      "execution_count": null,
      "outputs": []
    },
    {
      "cell_type": "code",
      "source": [
        "In [5]: abs(-4/3)"
      ],
      "metadata": {
        "colab": {
          "base_uri": "https://localhost:8080/"
        },
        "id": "A6lwZkNs9QyD",
        "outputId": "de1cf457-571a-49fc-9ab1-48d81e67994f"
      },
      "execution_count": 2,
      "outputs": [
        {
          "output_type": "execute_result",
          "data": {
            "text/plain": [
              "1.3333333333333333"
            ]
          },
          "metadata": {},
          "execution_count": 2
        }
      ]
    },
    {
      "cell_type": "code",
      "source": [
        "In [6]: round(-4/3)"
      ],
      "metadata": {
        "colab": {
          "base_uri": "https://localhost:8080/"
        },
        "id": "VwYmq-9F9soL",
        "outputId": "6770df60-fcd3-463e-8d70-696f410b13b5"
      },
      "execution_count": 3,
      "outputs": [
        {
          "output_type": "execute_result",
          "data": {
            "text/plain": [
              "-1"
            ]
          },
          "metadata": {},
          "execution_count": 3
        }
      ]
    },
    {
      "cell_type": "code",
      "source": [
        "In [7]: min(3,2,5)"
      ],
      "metadata": {
        "colab": {
          "base_uri": "https://localhost:8080/"
        },
        "id": "SADG8V7W90YM",
        "outputId": "810494b2-b8eb-459a-ae4a-f7bdfe933fa7"
      },
      "execution_count": 5,
      "outputs": [
        {
          "output_type": "execute_result",
          "data": {
            "text/plain": [
              "2"
            ]
          },
          "metadata": {},
          "execution_count": 5
        }
      ]
    },
    {
      "cell_type": "code",
      "source": [
        "In [8]: min('c','a','b')"
      ],
      "metadata": {
        "colab": {
          "base_uri": "https://localhost:8080/",
          "height": 35
        },
        "id": "2AAl1Ts9-JXs",
        "outputId": "8ee655ed-7f78-4f59-c9e4-f03ef93ceddd"
      },
      "execution_count": 6,
      "outputs": [
        {
          "output_type": "execute_result",
          "data": {
            "text/plain": [
              "'a'"
            ],
            "application/vnd.google.colaboratory.intrinsic+json": {
              "type": "string"
            }
          },
          "metadata": {},
          "execution_count": 6
        }
      ]
    },
    {
      "cell_type": "code",
      "source": [
        "In [21]: a = [3,2,1]\n",
        "sorted(a)"
      ],
      "metadata": {
        "colab": {
          "base_uri": "https://localhost:8080/"
        },
        "id": "RgLYFhuL-Kq7",
        "outputId": "778c6eda-070c-4986-cc4f-ce61a1653aa1"
      },
      "execution_count": 10,
      "outputs": [
        {
          "output_type": "execute_result",
          "data": {
            "text/plain": [
              "[1, 2, 3]"
            ]
          },
          "metadata": {},
          "execution_count": 10
        }
      ]
    },
    {
      "cell_type": "code",
      "source": [
        "In [22]: a = [3,2,1]\n",
        "sum(a)"
      ],
      "metadata": {
        "colab": {
          "base_uri": "https://localhost:8080/"
        },
        "id": "Bdq4B1mr-jVb",
        "outputId": "157716d0-2c4f-46d8-ca47-ec88ae076c70"
      },
      "execution_count": 11,
      "outputs": [
        {
          "output_type": "execute_result",
          "data": {
            "text/plain": [
              "6"
            ]
          },
          "metadata": {},
          "execution_count": 11
        }
      ]
    },
    {
      "cell_type": "code",
      "source": [
        "In [23]: b = [4/3, 2/3, 1/3, 1/3, 1/3]\n",
        "sum(b)"
      ],
      "metadata": {
        "colab": {
          "base_uri": "https://localhost:8080/"
        },
        "id": "8uObFh1p-qn0",
        "outputId": "930ce074-49d7-418b-de26-3fa5f4896bc0"
      },
      "execution_count": 12,
      "outputs": [
        {
          "output_type": "execute_result",
          "data": {
            "text/plain": [
              "3.0000000000000004"
            ]
          },
          "metadata": {},
          "execution_count": 12
        }
      ]
    }
  ]
}