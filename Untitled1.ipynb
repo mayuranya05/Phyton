{
  "nbformat": 4,
  "nbformat_minor": 0,
  "metadata": {
    "colab": {
      "provenance": [],
      "authorship_tag": "ABX9TyM76Cc10/aWO3wu1aBDWcXq",
      "include_colab_link": true
    },
    "kernelspec": {
      "name": "python3",
      "display_name": "Python 3"
    },
    "language_info": {
      "name": "python"
    }
  },
  "cells": [
    {
      "cell_type": "markdown",
      "metadata": {
        "id": "view-in-github",
        "colab_type": "text"
      },
      "source": [
        "<a href=\"https://colab.research.google.com/github/mayuranya05/PythonClass/blob/main/Untitled1.ipynb\" target=\"_parent\"><img src=\"https://colab.research.google.com/assets/colab-badge.svg\" alt=\"Open In Colab\"/></a>"
      ]
    },
    {
      "cell_type": "code",
      "execution_count": null,
      "metadata": {
        "colab": {
          "base_uri": "https://localhost:8080/",
          "height": 194
        },
        "id": "3kETr7cI0ZKi",
        "outputId": "914c46ef-8205-48d7-f91c-d339be8d8838"
      },
      "outputs": [
        {
          "output_type": "error",
          "ename": "NameError",
          "evalue": "ignored",
          "traceback": [
            "\u001b[0;31m---------------------------------------------------------------------------\u001b[0m",
            "\u001b[0;31mNameError\u001b[0m                                 Traceback (most recent call last)",
            "\u001b[0;32m<ipython-input-1-80ce360e2da2>\u001b[0m in \u001b[0;36m<cell line: 2>\u001b[0;34m()\u001b[0m\n\u001b[1;32m      1\u001b[0m \u001b[0mfriend\u001b[0m \u001b[0;34m=\u001b[0m \u001b[0;34m'Kill'\u001b[0m\u001b[0;34m\u001b[0m\u001b[0;34m\u001b[0m\u001b[0m\n\u001b[0;32m----> 2\u001b[0;31m \u001b[0mfrind\u001b[0m\u001b[0;34m[\u001b[0m\u001b[0;36m0\u001b[0m\u001b[0;34m]\u001b[0m \u001b[0;34m=\u001b[0m \u001b[0;34m'W'\u001b[0m\u001b[0;34m\u001b[0m\u001b[0;34m\u001b[0m\u001b[0m\n\u001b[0m",
            "\u001b[0;31mNameError\u001b[0m: name 'frind' is not defined"
          ]
        }
      ],
      "source": [
        "friend = 'Kill'\n",
        "frind[0] = 'W'"
      ]
    },
    {
      "cell_type": "code",
      "source": [
        "fruit = 'apple'\n",
        "print(len(fruit))"
      ],
      "metadata": {
        "colab": {
          "base_uri": "https://localhost:8080/"
        },
        "id": "FRadntP7-Ism",
        "outputId": "ad62bed3-d11e-4817-eb6c-9ecc0d55be5b"
      },
      "execution_count": null,
      "outputs": [
        {
          "output_type": "stream",
          "name": "stdout",
          "text": [
            "5\n"
          ]
        }
      ]
    },
    {
      "cell_type": "code",
      "source": [
        "print ( len('apple') )"
      ],
      "metadata": {
        "colab": {
          "base_uri": "https://localhost:8080/"
        },
        "id": "CxcffQMp-Tj3",
        "outputId": "d05d0131-023d-4235-ad61-363dd0ab05f7"
      },
      "execution_count": null,
      "outputs": [
        {
          "output_type": "stream",
          "name": "stdout",
          "text": [
            "5\n"
          ]
        }
      ]
    },
    {
      "cell_type": "code",
      "source": [
        "city = 'Boston'\n",
        "index = 0\n",
        "while index < len(city):\n",
        "  print(city[index])\n",
        "  index += 1"
      ],
      "metadata": {
        "colab": {
          "base_uri": "https://localhost:8080/"
        },
        "id": "Q3H4dpWo-bsI",
        "outputId": "81029c60-4012-4aa7-cf50-906779093fb4"
      },
      "execution_count": null,
      "outputs": [
        {
          "output_type": "stream",
          "name": "stdout",
          "text": [
            "B\n",
            "o\n",
            "s\n",
            "t\n",
            "o\n",
            "n\n"
          ]
        }
      ]
    },
    {
      "cell_type": "code",
      "source": [
        "fruit = 'Apple'\n",
        "print (fruit.lower())"
      ],
      "metadata": {
        "colab": {
          "base_uri": "https://localhost:8080/"
        },
        "id": "ePkW6DqT-y7H",
        "outputId": "1c07faa8-7e66-4681-e1b2-ba7f97907869"
      },
      "execution_count": null,
      "outputs": [
        {
          "output_type": "stream",
          "name": "stdout",
          "text": [
            "apple\n"
          ]
        }
      ]
    },
    {
      "cell_type": "code",
      "source": [
        "fruit = 'Apple'\n",
        "print (fruit.upper())"
      ],
      "metadata": {
        "colab": {
          "base_uri": "https://localhost:8080/"
        },
        "id": "2ZBHktSi-9cf",
        "outputId": "44f64bdc-c9ae-4561-af8b-404eca6a3c5d"
      },
      "execution_count": null,
      "outputs": [
        {
          "output_type": "stream",
          "name": "stdout",
          "text": [
            "APPLE\n"
          ]
        }
      ]
    },
    {
      "cell_type": "code",
      "source": [
        "again = 'y'\n",
        "while again.lower() == 'y' :\n",
        "  print('Hello')\n",
        "  print('Do you want to see that again?')\n",
        "  again = input('y = yes, anything else = no : ')"
      ],
      "metadata": {
        "colab": {
          "base_uri": "https://localhost:8080/"
        },
        "id": "zUnfQuio_MQf",
        "outputId": "6701556f-ce45-4e9d-8f62-ca5d572797c1"
      },
      "execution_count": null,
      "outputs": [
        {
          "name": "stdout",
          "output_type": "stream",
          "text": [
            "Hello\n",
            "Do you want to see that again?\n",
            "y = yes, anything else = no : y\n",
            "Hello\n",
            "Do you want to see that again?\n",
            "y = yes, anything else = no : y\n",
            "Hello\n",
            "Do you want to see that again?\n",
            "y = yes, anything else = no : n\n"
          ]
        }
      ]
    },
    {
      "cell_type": "code",
      "source": [
        "print ( 'I ' + 'love ' + 'Python.')\n",
        "print ( 'I' + ' love' + ' Python.')\n",
        "print ( 'I' + 'love' + 'Python.')"
      ],
      "metadata": {
        "colab": {
          "base_uri": "https://localhost:8080/"
        },
        "id": "yOURE_cGBBNf",
        "outputId": "2c12d1c4-7e70-4d13-861e-bf0083b1566b"
      },
      "execution_count": null,
      "outputs": [
        {
          "output_type": "stream",
          "name": "stdout",
          "text": [
            "I love Python.\n",
            "I love Python.\n",
            "IlovePython.\n"
          ]
        }
      ]
    },
    {
      "cell_type": "code",
      "source": [
        "first = 'I'\n",
        "second = 'love'\n",
        "third = 'Python'\n",
        "sentence = first +' ' + second +' ' + third+'.'\n",
        "print (sentence)"
      ],
      "metadata": {
        "colab": {
          "base_uri": "https://localhost:8080/"
        },
        "id": "Nn6o1IDB_lFn",
        "outputId": "d491bae2-dcca-4fe7-dafb-074934d2825c"
      },
      "execution_count": null,
      "outputs": [
        {
          "output_type": "stream",
          "name": "stdout",
          "text": [
            "I love Python.\n"
          ]
        }
      ]
    },
    {
      "cell_type": "code",
      "source": [
        "print ( '_' * 20)\n",
        "\n",
        "supernice = ' Nice ' * 3\n",
        "print (supernice)\n",
        "\n",
        "print ( '_' * 20 )"
      ],
      "metadata": {
        "colab": {
          "base_uri": "https://localhost:8080/"
        },
        "id": "wolCLPTNEOVm",
        "outputId": "749b559d-b8e7-4cde-91f8-7755130aa46b"
      },
      "execution_count": null,
      "outputs": [
        {
          "output_type": "stream",
          "name": "stdout",
          "text": [
            "____________________\n",
            " Nice  Nice  Nice \n",
            "____________________\n"
          ]
        }
      ]
    },
    {
      "cell_type": "code",
      "source": [
        "version = 3\n",
        "print (' I love Python ' + str(version) + '.')"
      ],
      "metadata": {
        "colab": {
          "base_uri": "https://localhost:8080/"
        },
        "id": "IqGVzaacEgkm",
        "outputId": "97192cab-2176-4ee1-b27f-2fc74d8e215d"
      },
      "execution_count": null,
      "outputs": [
        {
          "output_type": "stream",
          "name": "stdout",
          "text": [
            " I love Python 3.\n"
          ]
        }
      ]
    },
    {
      "cell_type": "code",
      "source": [
        "print (' I {} Python. ' .format(' love ') )\n",
        "print( ' {}  {}  {}' .format('I', 'love', 'Python.') )"
      ],
      "metadata": {
        "colab": {
          "base_uri": "https://localhost:8080/"
        },
        "id": "8w7VzP7hJc8L",
        "outputId": "81245a2c-85ae-438a-d63f-552d5fa49fd8"
      },
      "execution_count": null,
      "outputs": [
        {
          "output_type": "stream",
          "name": "stdout",
          "text": [
            " I  love  Python. \n",
            " I  love  Python.\n"
          ]
        }
      ]
    },
    {
      "cell_type": "code",
      "source": [
        "print ('I {0} {1}. {1} {0}s me. ' .format('love', 'Python') )"
      ],
      "metadata": {
        "colab": {
          "base_uri": "https://localhost:8080/"
        },
        "id": "MvZRyjuIKARF",
        "outputId": "673878f0-64d4-49b2-d339-c02caeeb74b3"
      },
      "execution_count": null,
      "outputs": [
        {
          "output_type": "stream",
          "name": "stdout",
          "text": [
            "I love Python. Python loves me. \n"
          ]
        }
      ]
    },
    {
      "cell_type": "code",
      "source": [
        "first = 'I'\n",
        "second = 'love'\n",
        "third = 'Python'\n",
        "print(' {} {} {} . ' .format ( first, second, third) )"
      ],
      "metadata": {
        "colab": {
          "base_uri": "https://localhost:8080/"
        },
        "id": "7NLvR_w6LUv0",
        "outputId": "0ec4c2b1-5d61-4421-8bc6-6dcc3efd8f59"
      },
      "execution_count": null,
      "outputs": [
        {
          "output_type": "stream",
          "name": "stdout",
          "text": [
            " I love Python . \n"
          ]
        }
      ]
    },
    {
      "cell_type": "code",
      "source": [
        "version = 3\n",
        "print (' I love Python {}.' .format(version) )"
      ],
      "metadata": {
        "colab": {
          "base_uri": "https://localhost:8080/"
        },
        "id": "5ZH-yUsOLo7t",
        "outputId": "7e16c13a-3d23-41cd-8e4a-d0a79b06ebd9"
      },
      "execution_count": null,
      "outputs": [
        {
          "output_type": "stream",
          "name": "stdout",
          "text": [
            " I love Python 3.\n"
          ]
        }
      ]
    },
    {
      "cell_type": "code",
      "source": [
        "print(' {0:8} | {1:8} ' .format('Fruit' , 'Quantity' ))\n",
        "print(' {0:8} | {1:8} ' .format('Apple' , '3' ))\n",
        "print(' {0:8} | {1:8} ' .format('Orange' , '10' ))"
      ],
      "metadata": {
        "colab": {
          "base_uri": "https://localhost:8080/"
        },
        "id": "UV0qtB54Bn_u",
        "outputId": "0678d3fd-be69-41b8-ebac-6e835569f0e0"
      },
      "execution_count": null,
      "outputs": [
        {
          "output_type": "stream",
          "name": "stdout",
          "text": [
            " Fruit    | Quantity \n",
            " Apple    | 3        \n",
            " Orange   | 10       \n"
          ]
        }
      ]
    },
    {
      "cell_type": "code",
      "source": [
        "print(' {0:8} | {1:>8} ' .format('Fruit' , 'Quantity' ))\n",
        "print(' {0:8} | {1:>8} ' .format('Apple' , '3' ))\n",
        "print(' {0:8} | {1:>8} ' .format('Orange' , '10' ))"
      ],
      "metadata": {
        "colab": {
          "base_uri": "https://localhost:8080/"
        },
        "id": "1qbnTOr3knBK",
        "outputId": "a3bb6f43-497c-4447-833f-c8d2b95ad92e"
      },
      "execution_count": 1,
      "outputs": [
        {
          "output_type": "stream",
          "name": "stdout",
          "text": [
            " Fruit    | Quantity \n",
            " Apple    |        3 \n",
            " Orange   |       10 \n"
          ]
        }
      ]
    },
    {
      "cell_type": "code",
      "source": [
        "print(' {0:8} | {1:>8} ' .format('Fruit' , 'Quantity' ))\n",
        "print(' {0:8} | {1:>8.2f} ' .format('Apple' , 2.33333))\n",
        "print(' {0:8} | {1:>8.2f} ' .format('Orange' , 10))"
      ],
      "metadata": {
        "colab": {
          "base_uri": "https://localhost:8080/"
        },
        "id": "0CBFse3bCJ1v",
        "outputId": "ee5f6508-5fef-43e8-9420-eb22fc13e852"
      },
      "execution_count": null,
      "outputs": [
        {
          "output_type": "stream",
          "name": "stdout",
          "text": [
            " Fruit    | Quantity \n",
            " Apple    |     2.33 \n",
            " Orange   |    10.00 \n"
          ]
        }
      ]
    },
    {
      "cell_type": "code",
      "source": [
        "balloon = \"Anirach has a balloon.\"\n",
        "\n",
        "print(\" \".join(balloon))\n",
        "print(\"\".join(reversed(balloon)))\n",
        "print(\",\".join([\"sharks\", \"crustaceans\", \"plankton\"]))"
      ],
      "metadata": {
        "colab": {
          "base_uri": "https://localhost:8080/"
        },
        "id": "jtwzzXjcDDcv",
        "outputId": "9d279c10-c3f4-47ef-d95d-aa4a31185f26"
      },
      "execution_count": null,
      "outputs": [
        {
          "output_type": "stream",
          "name": "stdout",
          "text": [
            "A n i r a c h   h a s   a   b a l l o o n .\n",
            ".noollab a sah hcarinA\n",
            "sharks,crustaceans,plankton\n"
          ]
        }
      ]
    },
    {
      "cell_type": "code",
      "source": [
        "balloon = \"Anirach has a balloon.\"\n",
        "\n",
        "print(balloon.split())\n",
        "print(balloon.split(\"a\"))"
      ],
      "metadata": {
        "colab": {
          "base_uri": "https://localhost:8080/"
        },
        "id": "5abmlQn4D7at",
        "outputId": "e92e0560-5236-4913-db30-808e473465c1"
      },
      "execution_count": null,
      "outputs": [
        {
          "output_type": "stream",
          "name": "stdout",
          "text": [
            "['Anirach', 'has', 'a', 'balloon.']\n",
            "['Anir', 'ch h', 's ', ' b', 'lloon.']\n"
          ]
        }
      ]
    },
    {
      "cell_type": "code",
      "source": [
        "balloon = ' Anirach has a balloon '\n",
        "\n",
        "print( ' [ ' ,balloon.strip(), ' ] ' )\n",
        "print( ' [ ' ,balloon.lstrip(), ' ] ' )\n",
        "print( ' [ ' ,balloon.rstrip(), ' ] ' )\n",
        "\n",
        "balloon = '###Anirach has a balloon####'\n",
        "print( ' [ ' ,balloon.strip( ' # ' ), ' ] ' )\n",
        "print( ' [ ' ,balloon.rstrip( ' # ' ), ' ] ' )"
      ],
      "metadata": {
        "colab": {
          "base_uri": "https://localhost:8080/"
        },
        "id": "xAAWXexllVZk",
        "outputId": "dcb853d0-58e6-4c0a-de74-5b3acc6c215f"
      },
      "execution_count": 1,
      "outputs": [
        {
          "output_type": "stream",
          "name": "stdout",
          "text": [
            " [  Anirach has a balloon  ] \n",
            " [  Anirach has a balloon   ] \n",
            " [   Anirach has a balloon  ] \n",
            " [  Anirach has a balloon  ] \n",
            " [  ###Anirach has a balloon  ] \n"
          ]
        }
      ]
    },
    {
      "cell_type": "code",
      "source": [
        "ballon = 'Anirach has a balloon.'\n",
        "print(balloon.find(\"rach\"))"
      ],
      "metadata": {
        "colab": {
          "base_uri": "https://localhost:8080/"
        },
        "id": "0dZZaNJhKUvV",
        "outputId": "f88c8d39-a7c0-4b53-dc5b-b379027badd0"
      },
      "execution_count": null,
      "outputs": [
        {
          "output_type": "stream",
          "name": "stdout",
          "text": [
            "3\n"
          ]
        }
      ]
    },
    {
      "cell_type": "code",
      "source": [
        "string = 'Four score and seven years ago'\n",
        "position = string.find('seven')\n",
        "if position != -1 :\n",
        "  print('The word \"seven\" was found at index', position)\n",
        "else:\n",
        "  print('The word \"seven\" was not found.')"
      ],
      "metadata": {
        "colab": {
          "base_uri": "https://localhost:8080/"
        },
        "id": "2hN6-XraNaQg",
        "outputId": "fb1016b9-a3de-4eb6-f01c-f0f0832a5a8a"
      },
      "execution_count": null,
      "outputs": [
        {
          "output_type": "stream",
          "name": "stdout",
          "text": [
            "The word \"seven\" was found at index 15\n"
          ]
        }
      ]
    },
    {
      "cell_type": "code",
      "source": [
        "balloon = \"Anirach has a balloon.\"\n",
        "print(balloon.replace(\"has\", \"had\"))"
      ],
      "metadata": {
        "colab": {
          "base_uri": "https://localhost:8080/"
        },
        "id": "GrZBffhSQMfE",
        "outputId": "19561a96-ddb4-4016-d83f-552375adc0bb"
      },
      "execution_count": 3,
      "outputs": [
        {
          "output_type": "stream",
          "name": "stdout",
          "text": [
            "Anirach had a balloon.\n"
          ]
        }
      ]
    },
    {
      "cell_type": "code",
      "source": [
        "filename = input('Enter the filename: ')\n",
        "if filename.endswith('.txt'):\n",
        "  print('The is the name of a text file.')\n",
        "elif filename.endswith('.py'):\n",
        "  print('That is the name of a Python source file.')\n",
        "elif filename.endswith('.doc'):\n",
        "  print('That is the name of a word processing document.')\n",
        "else:\n",
        "  print('Unknow file type.')"
      ],
      "metadata": {
        "colab": {
          "base_uri": "https://localhost:8080/"
        },
        "id": "uUTonQB0Ohbz",
        "outputId": "fa25e263-ff93-42fd-a2ec-c18b1b2bab3c"
      },
      "execution_count": null,
      "outputs": [
        {
          "output_type": "stream",
          "name": "stdout",
          "text": [
            "Enter the filename: report.doc\n",
            "That is the name of a word processing document.\n"
          ]
        }
      ]
    },
    {
      "cell_type": "code",
      "source": [
        "number = \"5\"\n",
        "letters = \"abcdef!\"\n",
        "space = \" \"\n",
        "\n",
        "print(number.isnumeric())\n",
        "print(letters.isalpha())\n",
        "print(space.isspace())"
      ],
      "metadata": {
        "colab": {
          "base_uri": "https://localhost:8080/"
        },
        "id": "H3fLe9c2Rjsi",
        "outputId": "a16dd3f4-370c-46fd-dcb1-b859a29b7be1"
      },
      "execution_count": null,
      "outputs": [
        {
          "output_type": "stream",
          "name": "stdout",
          "text": [
            "True\n",
            "False\n",
            "True\n"
          ]
        }
      ]
    },
    {
      "cell_type": "code",
      "source": [
        "movie = \"2001: A SAMMY ODYSSEY\"\n",
        "book = \"A THOUSAND Splendid Sharks\"\n",
        "poem = \"sammy lived in a pretty how town\"\n",
        "\n",
        "print(movie.isalnum())\n",
        "print(movie.isupper())\n",
        "\n",
        "print(book.istitle())\n",
        "print(book.isupper())\n",
        "\n",
        "print(poem.istitle())\n",
        "print(poem.islower())"
      ],
      "metadata": {
        "colab": {
          "base_uri": "https://localhost:8080/"
        },
        "id": "NXuJOwSZQLwj",
        "outputId": "25bcab88-2e4d-4c0a-e89a-df67db14fa07"
      },
      "execution_count": null,
      "outputs": [
        {
          "output_type": "stream",
          "name": "stdout",
          "text": [
            "False\n",
            "True\n",
            "False\n",
            "False\n",
            "False\n",
            "True\n"
          ]
        }
      ]
    }
  ]
}