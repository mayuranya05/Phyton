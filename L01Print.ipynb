{
  "nbformat": 4,
  "nbformat_minor": 0,
  "metadata": {
    "colab": {
      "provenance": [],
      "authorship_tag": "ABX9TyNxHxdRC4lWXEpXKcEebkBq",
      "include_colab_link": true
    },
    "kernelspec": {
      "name": "python3",
      "display_name": "Python 3"
    },
    "language_info": {
      "name": "python"
    }
  },
  "cells": [
    {
      "cell_type": "markdown",
      "metadata": {
        "id": "view-in-github",
        "colab_type": "text"
      },
      "source": [
        "<a href=\"https://colab.research.google.com/github/mayuranya05/Phyton/blob/main/L01Print.ipynb\" target=\"_parent\"><img src=\"https://colab.research.google.com/assets/colab-badge.svg\" alt=\"Open In Colab\"/></a>"
      ]
    },
    {
      "cell_type": "code",
      "execution_count": null,
      "metadata": {
        "colab": {
          "base_uri": "https://localhost:8080/"
        },
        "id": "iWWDsUGX3lrj",
        "outputId": "1a70bb13-0e86-4da2-ac86-5bc557be52a3"
      },
      "outputs": [
        {
          "output_type": "stream",
          "name": "stdout",
          "text": [
            "Hello World\n"
          ]
        }
      ],
      "source": [
        "print(\"Hello World\")"
      ]
    },
    {
      "cell_type": "code",
      "source": [
        "print(\"Infromation and Network Engineering\")"
      ],
      "metadata": {
        "colab": {
          "base_uri": "https://localhost:8080/"
        },
        "id": "TVosxIFj4tx_",
        "outputId": "09831def-05e6-4621-d904-783686d31749"
      },
      "execution_count": null,
      "outputs": [
        {
          "output_type": "stream",
          "name": "stdout",
          "text": [
            "Infromation and Network Engineering\n"
          ]
        }
      ]
    },
    {
      "cell_type": "code",
      "source": [
        "print(\"Hello Anirach yuo will be great\")"
      ],
      "metadata": {
        "colab": {
          "base_uri": "https://localhost:8080/"
        },
        "id": "XHkZbox45ACG",
        "outputId": "3f19dff1-0cc6-4060-8760-7d565920ac14"
      },
      "execution_count": null,
      "outputs": [
        {
          "output_type": "stream",
          "name": "stdout",
          "text": [
            "Hello Anirach yuo will be great\n"
          ]
        }
      ]
    },
    {
      "cell_type": "code",
      "source": [
        "print(\"Hello Again\")"
      ],
      "metadata": {
        "colab": {
          "base_uri": "https://localhost:8080/"
        },
        "id": "mCUvA0488Twn",
        "outputId": "0f766a7e-b9e0-45e2-fca4-be1e5cc32900"
      },
      "execution_count": null,
      "outputs": [
        {
          "output_type": "stream",
          "name": "stdout",
          "text": [
            "Hello Again\n"
          ]
        }
      ]
    },
    {
      "cell_type": "code",
      "source": [
        "print(\"I'm hungry\")"
      ],
      "metadata": {
        "colab": {
          "base_uri": "https://localhost:8080/"
        },
        "id": "FESbH_XA8kp2",
        "outputId": "2a9a150d-93a4-45e5-cc56-0412d995c2cb"
      },
      "execution_count": null,
      "outputs": [
        {
          "output_type": "stream",
          "name": "stdout",
          "text": [
            "I'm hungry\n"
          ]
        }
      ]
    },
    {
      "cell_type": "code",
      "source": [
        "print('He ask me \"Who got the book?\"')"
      ],
      "metadata": {
        "colab": {
          "base_uri": "https://localhost:8080/"
        },
        "id": "siWMybWz8sem",
        "outputId": "56ea3d5d-d115-4931-9f3f-457fb28ad598"
      },
      "execution_count": null,
      "outputs": [
        {
          "output_type": "stream",
          "name": "stdout",
          "text": [
            "He ask me \"Who got the book?\"\n"
          ]
        }
      ]
    },
    {
      "cell_type": "code",
      "source": [
        "print(\"I'm good and \\\"I will do my best\\\"\")"
      ],
      "metadata": {
        "colab": {
          "base_uri": "https://localhost:8080/"
        },
        "id": "3JGOhHyn9u-2",
        "outputId": "65567d19-c20b-4e5e-a8ba-c4da8f1d5b98"
      },
      "execution_count": null,
      "outputs": [
        {
          "output_type": "stream",
          "name": "stdout",
          "text": [
            "I'm good and \"I will do my best\"\n"
          ]
        }
      ]
    },
    {
      "cell_type": "code",
      "source": [
        "print('/\\\\')"
      ],
      "metadata": {
        "colab": {
          "base_uri": "https://localhost:8080/"
        },
        "id": "wWCik4fN-US-",
        "outputId": "97fdd76f-a7dc-46e7-9c80-5da417f388de"
      },
      "execution_count": null,
      "outputs": [
        {
          "output_type": "stream",
          "name": "stdout",
          "text": [
            "/\\\n"
          ]
        }
      ]
    },
    {
      "cell_type": "code",
      "source": [
        "print('\\ta\\na\\ta\\ta\\n\\ta')"
      ],
      "metadata": {
        "colab": {
          "base_uri": "https://localhost:8080/"
        },
        "id": "LvA1pden-rLm",
        "outputId": "0a90fdf7-e4d8-4f8a-cbfc-858f9403b0d7"
      },
      "execution_count": null,
      "outputs": [
        {
          "output_type": "stream",
          "name": "stdout",
          "text": [
            "\ta\n",
            "a\ta\ta\n",
            "\ta\n"
          ]
        }
      ]
    },
    {
      "cell_type": "code",
      "source": [
        "print('''\\to\n",
        "o\\to\\to\n",
        "\\to''')"
      ],
      "metadata": {
        "colab": {
          "base_uri": "https://localhost:8080/"
        },
        "id": "n36nuKYCAG5m",
        "outputId": "9af1febf-a791-4a5b-b5bf-651e7684475f"
      },
      "execution_count": null,
      "outputs": [
        {
          "output_type": "stream",
          "name": "stdout",
          "text": [
            "\to\n",
            "o\to\to\n",
            "\to\n"
          ]
        }
      ]
    },
    {
      "cell_type": "code",
      "source": [
        "print('100.00')"
      ],
      "metadata": {
        "colab": {
          "base_uri": "https://localhost:8080/"
        },
        "id": "fplrlH5AHhbm",
        "outputId": "fede0433-3881-4942-e296-dfef9f9c81d4"
      },
      "execution_count": null,
      "outputs": [
        {
          "output_type": "stream",
          "name": "stdout",
          "text": [
            "100.00\n"
          ]
        }
      ]
    },
    {
      "cell_type": "code",
      "source": [
        "print('%d' %100)"
      ],
      "metadata": {
        "colab": {
          "base_uri": "https://localhost:8080/"
        },
        "id": "EZQ3dzbpHsWm",
        "outputId": "4564ede9-2705-4aa4-9009-6c1db9838fa4"
      },
      "execution_count": null,
      "outputs": [
        {
          "output_type": "stream",
          "name": "stdout",
          "text": [
            "100\n"
          ]
        }
      ]
    },
    {
      "cell_type": "code",
      "source": [
        "print('%d' %100.27)"
      ],
      "metadata": {
        "colab": {
          "base_uri": "https://localhost:8080/"
        },
        "id": "HJpj38HlH4WN",
        "outputId": "e800fde5-4285-48ae-b1bb-0c46052c89d1"
      },
      "execution_count": null,
      "outputs": [
        {
          "output_type": "stream",
          "name": "stdout",
          "text": [
            "100\n"
          ]
        }
      ]
    },
    {
      "cell_type": "code",
      "source": [
        "print('%f' %-100.96)"
      ],
      "metadata": {
        "colab": {
          "base_uri": "https://localhost:8080/"
        },
        "id": "QR676iLOIBMt",
        "outputId": "742b4dd5-0f6d-4410-f6a6-09c450e0917f"
      },
      "execution_count": null,
      "outputs": [
        {
          "output_type": "stream",
          "name": "stdout",
          "text": [
            "-100.960000\n"
          ]
        }
      ]
    },
    {
      "cell_type": "code",
      "source": [
        "print('%.2f' %100.349)"
      ],
      "metadata": {
        "colab": {
          "base_uri": "https://localhost:8080/"
        },
        "id": "jngijKoHIK6l",
        "outputId": "57712256-d2c8-4f1e-eef2-66032c0fde99"
      },
      "execution_count": null,
      "outputs": [
        {
          "output_type": "stream",
          "name": "stdout",
          "text": [
            "100.35\n"
          ]
        }
      ]
    },
    {
      "cell_type": "code",
      "source": [
        "from math import pi\n",
        "print('%.2f' %pi)"
      ],
      "metadata": {
        "colab": {
          "base_uri": "https://localhost:8080/"
        },
        "id": "TOlyGsEXJ7Kn",
        "outputId": "1eb07644-2ec1-42f8-aeeb-a3d63f874f0f"
      },
      "execution_count": null,
      "outputs": [
        {
          "output_type": "stream",
          "name": "stdout",
          "text": [
            "3.14\n"
          ]
        }
      ]
    },
    {
      "cell_type": "code",
      "source": [
        "print('%.4f' %pi)"
      ],
      "metadata": {
        "colab": {
          "base_uri": "https://localhost:8080/"
        },
        "id": "pSBnM6J2KPBW",
        "outputId": "91dbd5d9-5773-4081-93e0-c204b16d9dd0"
      },
      "execution_count": null,
      "outputs": [
        {
          "output_type": "stream",
          "name": "stdout",
          "text": [
            "3.1416\n"
          ]
        }
      ]
    },
    {
      "cell_type": "code",
      "source": [
        "print('%.30f' %pi)"
      ],
      "metadata": {
        "colab": {
          "base_uri": "https://localhost:8080/"
        },
        "id": "MlU0A1PjKj2u",
        "outputId": "f7a908fd-dc85-450e-f2e9-3740b796da73"
      },
      "execution_count": null,
      "outputs": [
        {
          "output_type": "stream",
          "name": "stdout",
          "text": [
            "3.141592653589793115997963468544\n"
          ]
        }
      ]
    },
    {
      "cell_type": "code",
      "source": [
        "print('My age is', 25,'I have', 3500.50,'Bth.')"
      ],
      "metadata": {
        "colab": {
          "base_uri": "https://localhost:8080/"
        },
        "id": "6orXhZN6LjmW",
        "outputId": "246fa997-da0b-476d-f29a-43a029d6ba18"
      },
      "execution_count": null,
      "outputs": [
        {
          "output_type": "stream",
          "name": "stdout",
          "text": [
            "My age is 25 I have 3500.5 Bth.\n"
          ]
        }
      ]
    },
    {
      "cell_type": "code",
      "source": [
        "print('My age is %d I have %.2f Bth.' %(25,3500.50))"
      ],
      "metadata": {
        "colab": {
          "base_uri": "https://localhost:8080/"
        },
        "id": "N5hj4iTIMC7W",
        "outputId": "b7585ba2-68c1-4bf1-dc44-e1f69f1bd6c5"
      },
      "execution_count": null,
      "outputs": [
        {
          "output_type": "stream",
          "name": "stdout",
          "text": [
            "My age is 25 I have 3500.50 Bth.\n"
          ]
        }
      ]
    },
    {
      "cell_type": "code",
      "source": [
        "print('My age is '+ str(25)+' I have '+ str(3500.50)+' Bth.')"
      ],
      "metadata": {
        "colab": {
          "base_uri": "https://localhost:8080/"
        },
        "id": "tXfl7fo5MYTv",
        "outputId": "7b8c90d5-a0e3-44c7-b924-be6afbda943e"
      },
      "execution_count": null,
      "outputs": [
        {
          "output_type": "stream",
          "name": "stdout",
          "text": [
            "My age is 25 I have 3500.5 Bth.\n"
          ]
        }
      ]
    },
    {
      "cell_type": "code",
      "source": [
        "print('5+4 =',5+4)"
      ],
      "metadata": {
        "colab": {
          "base_uri": "https://localhost:8080/"
        },
        "id": "bBrRPrAKNsXV",
        "outputId": "cfe8ccf4-602d-4b33-83b8-6773361089b2"
      },
      "execution_count": null,
      "outputs": [
        {
          "output_type": "stream",
          "name": "stdout",
          "text": [
            "5+4 = 9\n"
          ]
        }
      ]
    },
    {
      "cell_type": "code",
      "source": [
        "print('5+4 = %.2f' %(5+4))"
      ],
      "metadata": {
        "colab": {
          "base_uri": "https://localhost:8080/"
        },
        "id": "U8V1y-50OJOH",
        "outputId": "39af647e-c797-4cd3-87f0-7d946bae0360"
      },
      "execution_count": null,
      "outputs": [
        {
          "output_type": "stream",
          "name": "stdout",
          "text": [
            "5+4 = 9.00\n"
          ]
        }
      ]
    },
    {
      "cell_type": "code",
      "source": [
        "print('5+4 = ' +str(5+4))"
      ],
      "metadata": {
        "colab": {
          "base_uri": "https://localhost:8080/"
        },
        "id": "yhA2fIBzOfre",
        "outputId": "c6e4822d-0dea-472b-cdce-61648b355ea3"
      },
      "execution_count": null,
      "outputs": [
        {
          "output_type": "stream",
          "name": "stdout",
          "text": [
            "5+4 = 9\n"
          ]
        }
      ]
    },
    {
      "cell_type": "code",
      "source": [
        "print(\"I'm Anirach\", \"I'll keep practicing!\")"
      ],
      "metadata": {
        "colab": {
          "base_uri": "https://localhost:8080/"
        },
        "id": "evfhq0doPu1A",
        "outputId": "a1180f6c-6aa4-4504-e96a-e370d5632178"
      },
      "execution_count": null,
      "outputs": [
        {
          "output_type": "stream",
          "name": "stdout",
          "text": [
            "I'm Anirach I'll keep practicing!\n"
          ]
        }
      ]
    },
    {
      "cell_type": "code",
      "source": [
        "print(\"I'm Anirach \" + \"I'll keep practicing!\")"
      ],
      "metadata": {
        "colab": {
          "base_uri": "https://localhost:8080/"
        },
        "id": "0sp41qpiQABt",
        "outputId": "d1f02918-f57d-469a-eef9-fcdbd6187b86"
      },
      "execution_count": null,
      "outputs": [
        {
          "output_type": "stream",
          "name": "stdout",
          "text": [
            "I'm Anirach I'll keep practicing!\n"
          ]
        }
      ]
    },
    {
      "cell_type": "code",
      "source": [
        "print(1, 1, 2, 3, 5, 8, 13, 21, 34, 55)"
      ],
      "metadata": {
        "colab": {
          "base_uri": "https://localhost:8080/"
        },
        "id": "sAlJ2mtaQnue",
        "outputId": "6902b064-c145-456c-bce8-f86fd3c50757"
      },
      "execution_count": null,
      "outputs": [
        {
          "output_type": "stream",
          "name": "stdout",
          "text": [
            "1 1 2 3 5 8 13 21 34 55\n"
          ]
        }
      ]
    },
    {
      "cell_type": "code",
      "source": [
        "print('%d %d %d %d %d %d %d %d %d %d' %(1,1,2,3,5,8,13,21,34,55))"
      ],
      "metadata": {
        "colab": {
          "base_uri": "https://localhost:8080/"
        },
        "id": "zt4C08yrQ4rO",
        "outputId": "34891605-8632-4a0a-e7cd-f539768c503a"
      },
      "execution_count": null,
      "outputs": [
        {
          "output_type": "stream",
          "name": "stdout",
          "text": [
            "1 1 2 3 5 8 13 21 34 55\n"
          ]
        }
      ]
    }
  ]
}